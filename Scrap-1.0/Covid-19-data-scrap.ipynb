{
 "cells": [
  {
   "cell_type": "code",
   "execution_count": 1,
   "metadata": {},
   "outputs": [],
   "source": [
    "from bs4 import BeautifulSoup\n",
    "import requests\n",
    "import itertools\n",
    "import pandas as pd\n",
    "import seaborn as sns\n",
    "import matplotlib.pyplot as plt"
   ]
  },
  {
   "cell_type": "code",
   "execution_count": 2,
   "metadata": {},
   "outputs": [],
   "source": [
    "header = ({'User-Agent':\n",
    "           'Mozilla/5.0 (Windows NT 10.0; Win64; x64) AppleWebKit/537.36 (KHTML, like Gecko) Chrome/75.0.3770.100 Safari/537.36'})\n",
    "web = \"https://www.worldometers.info/coronavirus/\""
   ]
  },
  {
   "cell_type": "code",
   "execution_count": 3,
   "metadata": {},
   "outputs": [
    {
     "name": "stdout",
     "output_type": "stream",
     "text": [
      "<Response [200]>\n"
     ]
    }
   ],
   "source": [
    "response = requests.get(url = web, headers = header)\n",
    "print(response)"
   ]
  },
  {
   "cell_type": "code",
   "execution_count": 4,
   "metadata": {
    "scrolled": true
   },
   "outputs": [
    {
     "name": "stdout",
     "output_type": "stream",
     "text": [
      "<!DOCTYPE html>\n",
      "<!--[if IE 8]> <html lang=\"en\" class=\"ie8\"> <![endif]-->\n",
      "<!--[if IE 9]> <html lang=\"en\" class=\"ie9\"> <![endif]-->\n",
      "<!--[if !IE]><!-->\n",
      "<html lang=\"en\">\n",
      "<!--<![endif]-->\n",
      "\n",
      "\n",
      "\n",
      "<head>\n",
      "    <meta charset=\"utf-8\">\n",
      "    <meta http-equiv=\"X-UA-Compatible\" content=\"IE=edge\">\n",
      "    <meta name=\"viewport\" content=\"width=device-width, initial-scale=1\">\n",
      "\n",
      "    <title>Coronavirus Update (Live): 336,838 Cases and 14,616 Deaths from COVID-19 Virus Outbreak - Worldometer</title>\n",
      "    <meta name=\"description\" content=\"Live statistics and coronavirus news tracking the number of confirmed cases, recovered patients, and death toll by country due to the COVID 19 coronavirus from Wuhan, China. Coronavirus counter with new cases, historical data, and info. Daily charts, graphs, news and updates\">\n",
      "\n",
      "\n",
      "    \t\n",
      "\t<!\n"
     ]
    }
   ],
   "source": [
    "print(response.text[:800])"
   ]
  },
  {
   "cell_type": "code",
   "execution_count": 7,
   "metadata": {},
   "outputs": [],
   "source": [
    "soup = BeautifulSoup(response.text)"
   ]
  },
  {
   "cell_type": "code",
   "execution_count": 8,
   "metadata": {},
   "outputs": [],
   "source": [
    "countries = []\n",
    "totalCases = []\n",
    "newCases = []\n",
    "totalDeaths = []\n",
    "newDeaths = []\n",
    "totalRecovered = []\n",
    "activeCases = []\n",
    "criticalCases = []"
   ]
  },
  {
   "cell_type": "code",
   "execution_count": 9,
   "metadata": {
    "scrolled": false
   },
   "outputs": [],
   "source": [
    "# Countries\n",
    "index = 0\n",
    "while index < (1737):\n",
    "    countries.append(soup.find_all('td')[index].text)\n",
    "    index += 9\n",
    "\n",
    "# Total Cases\n",
    "index = 1\n",
    "while index < (1737):\n",
    "    totalCases.append(soup.find_all('td')[index].text)\n",
    "    index += 9\n",
    "\n",
    "# New Cases\n",
    "index = 2\n",
    "while index < (1737):\n",
    "    newCases.append(soup.find_all('td')[index].text)\n",
    "    index += 9\n",
    "\n",
    "# Total Deaths\n",
    "index = 3\n",
    "while index < (1737):\n",
    "    totalDeaths.append(soup.find_all('td')[index].text)\n",
    "    index += 9\n",
    "\n",
    "# New Deaths\n",
    "index = 4\n",
    "while index < (1737):\n",
    "    newDeaths.append(soup.find_all('td')[index].text)\n",
    "    index += 9\n",
    "\n",
    "# Total Recovered\n",
    "index = 5\n",
    "while index < (1737):\n",
    "    totalRecovered.append(soup.find_all('td')[index].text)\n",
    "    index += 9\n",
    "\n",
    "# Active Cases\n",
    "index = 6\n",
    "while index < (1737):\n",
    "    activeCases.append(soup.find_all('td')[index].text)\n",
    "    index += 9\n",
    "\n",
    "# Critical Cases\n",
    "index = 7\n",
    "while index < (1737):\n",
    "    criticalCases.append(soup.find_all('td')[index].text)\n",
    "    index += 9\n"
   ]
  },
  {
   "cell_type": "code",
   "execution_count": 10,
   "metadata": {},
   "outputs": [],
   "source": [
    "data = {\n",
    "    'Countries' : countries,\n",
    "    'Total Cases' : totalCases,\n",
    "    'New Cases' : newCases,\n",
    "    'Total Deaths' : totalDeaths,\n",
    "    'New Deaths' : newDeaths,\n",
    "    'Total Recovered' : totalRecovered,\n",
    "    'Active Cases' : activeCases,\n",
    "    'Critical Cases' : criticalCases\n",
    "}\n",
    "columns = ['Countries','Total Cases','New Cases','Total Deaths','New Deaths','Total Recovered','Active Cases','Critical Cases']\n",
    "df = pd.DataFrame(data, columns = columns )"
   ]
  },
  {
   "cell_type": "code",
   "execution_count": null,
   "metadata": {},
   "outputs": [],
   "source": []
  }
 ],
 "metadata": {
  "kernelspec": {
   "display_name": "Python 3",
   "language": "python",
   "name": "python3"
  },
  "language_info": {
   "codemirror_mode": {
    "name": "ipython",
    "version": 3
   },
   "file_extension": ".py",
   "mimetype": "text/x-python",
   "name": "python",
   "nbconvert_exporter": "python",
   "pygments_lexer": "ipython3",
   "version": "3.7.5"
  }
 },
 "nbformat": 4,
 "nbformat_minor": 4
}
