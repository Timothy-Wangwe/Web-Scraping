{
 "cells": [
  {
   "cell_type": "code",
   "execution_count": 17,
   "metadata": {},
   "outputs": [],
   "source": [
    "from bs4 import BeautifulSoup\n",
    "import requests\n",
    "import itertools\n",
    "import pandas as pd\n",
    "import seaborn as sns\n",
    "import matplotlib.pyplot as plt"
   ]
  },
  {
   "cell_type": "code",
   "execution_count": 18,
   "metadata": {},
   "outputs": [],
   "source": [
    "header = ({'User-Agent':\n",
    "           'Mozilla/5.0 (Windows NT 10.0; Win64; x64) AppleWebKit/537.36 (KHTML, like Gecko) Chrome/75.0.3770.100 Safari/537.36'})\n",
    "web = \"https://www.worldometers.info/coronavirus/\""
   ]
  },
  {
   "cell_type": "code",
   "execution_count": 19,
   "metadata": {},
   "outputs": [
    {
     "name": "stdout",
     "output_type": "stream",
     "text": "<Response [200]>\n"
    }
   ],
   "source": [
    "response = requests.get(url = web, headers = header)\n",
    "print(response)"
   ]
  },
  {
   "cell_type": "code",
   "execution_count": 20,
   "metadata": {},
   "outputs": [
    {
     "name": "stdout",
     "output_type": "stream",
     "text": "<!DOCTYPE html>\n<!--[if IE 8]> <html lang=\"en\" class=\"ie8\"> <![endif]-->\n<!--[if IE 9]> <html lang=\"en\" class=\"ie9\"> <![endif]-->\n<!--[if !IE]><!-->\n<html lang=\"en\">\n<!--<![endif]-->\n\n\n\n<head>\n    <meta charset=\"utf-8\">\n    <meta http-equiv=\"X-UA-Compatible\" content=\"IE=edge\">\n    <meta name=\"viewport\" content=\"width=device-width, initial-scale=1\">\n\n    <title>Coronavirus Update (Live): 358,076 Cases and 15,427 Deaths from COVID-19 Virus Outbreak - Worldometer</title>\n    <meta name=\"description\" content=\"Live statistics and coronavirus news tracking the number of confirmed cases, recovered patients, and death toll by country due to the COVID 19 coronavirus from Wuhan, China. Coronavirus counter with new cases, historical data, and info. Daily charts, graphs, news and updates\">\n\n\n    \t\n\t<!\n"
    }
   ],
   "source": [
    "print(response.text[:800])"
   ]
  },
  {
   "cell_type": "code",
   "execution_count": 21,
   "metadata": {},
   "outputs": [],
   "source": [
    "soup = BeautifulSoup(response.text)"
   ]
  },
  {
   "cell_type": "code",
   "execution_count": 22,
   "metadata": {},
   "outputs": [
    {
     "data": {
      "text/plain": "'China'"
     },
     "execution_count": 22,
     "metadata": {},
     "output_type": "execute_result"
    }
   ],
   "source": [
    "country = soup.find_all('td')[0].text\n",
    "country"
   ]
  },
  {
   "cell_type": "code",
   "execution_count": 23,
   "metadata": {},
   "outputs": [
    {
     "data": {
      "text/plain": "'81,093'"
     },
     "execution_count": 23,
     "metadata": {},
     "output_type": "execute_result"
    }
   ],
   "source": [
    "totalCases = soup.find_all('td')[1].text\n",
    "totalCases"
   ]
  },
  {
   "cell_type": "code",
   "execution_count": 24,
   "metadata": {},
   "outputs": [
    {
     "data": {
      "text/plain": "'+39'"
     },
     "execution_count": 24,
     "metadata": {},
     "output_type": "execute_result"
    }
   ],
   "source": [
    "newCases = soup.find_all('td')[2].text\n",
    "newCases"
   ]
  },
  {
   "cell_type": "code",
   "execution_count": 25,
   "metadata": {},
   "outputs": [
    {
     "data": {
      "text/plain": "'3,270                                '"
     },
     "execution_count": 25,
     "metadata": {},
     "output_type": "execute_result"
    }
   ],
   "source": [
    "totalDeaths = soup.find_all('td')[3].text\n",
    "totalDeaths"
   ]
  },
  {
   "cell_type": "code",
   "execution_count": 26,
   "metadata": {},
   "outputs": [
    {
     "data": {
      "text/plain": "'+9'"
     },
     "execution_count": 26,
     "metadata": {},
     "output_type": "execute_result"
    }
   ],
   "source": [
    "newDeaths = soup.find_all('td')[4].text\n",
    "newDeaths"
   ]
  },
  {
   "cell_type": "code",
   "execution_count": 27,
   "metadata": {},
   "outputs": [
    {
     "data": {
      "text/plain": "'72,703'"
     },
     "execution_count": 27,
     "metadata": {},
     "output_type": "execute_result"
    }
   ],
   "source": [
    "totalRecovered = soup.find_all('td')[5].text\n",
    "totalRecovered"
   ]
  },
  {
   "cell_type": "code",
   "execution_count": 28,
   "metadata": {},
   "outputs": [
    {
     "data": {
      "text/plain": "'5,120'"
     },
     "execution_count": 28,
     "metadata": {},
     "output_type": "execute_result"
    }
   ],
   "source": [
    "activeCases = soup.find_all('td')[6].text\n",
    "activeCases"
   ]
  },
  {
   "cell_type": "code",
   "execution_count": 29,
   "metadata": {},
   "outputs": [
    {
     "data": {
      "text/plain": "'1,749'"
     },
     "execution_count": 29,
     "metadata": {},
     "output_type": "execute_result"
    }
   ],
   "source": [
    "criticalCases = soup.find_all('td')[7].text\n",
    "criticalCases"
   ]
  },
  {
   "cell_type": "code",
   "execution_count": 30,
   "metadata": {},
   "outputs": [],
   "source": [
    "countries = []\n",
    "totalCases = []\n",
    "newCases = []\n",
    "totalDeaths = []\n",
    "newDeaths = []\n",
    "totalRecovered = []\n",
    "activeCases = []\n",
    "criticalCases = []"
   ]
  },
  {
   "cell_type": "code",
   "execution_count": 31,
   "metadata": {},
   "outputs": [],
   "source": [
    "# Countries\n",
    "index = 0\n",
    "while index < (1737):\n",
    "    countries.append(soup.find_all('td')[index].text)\n",
    "    index += 9\n",
    "\n",
    "# Total Cases\n",
    "index = 1\n",
    "while index < (1737):\n",
    "    totalCases.append(soup.find_all('td')[index].text)\n",
    "    index += 9\n",
    "\n",
    "# New Cases\n",
    "index = 2\n",
    "while index < (1737):\n",
    "    newCases.append(soup.find_all('td')[index].text)\n",
    "    index += 9\n",
    "\n",
    "# Total Deaths\n",
    "index = 3\n",
    "while index < (1737):\n",
    "    totalDeaths.append(soup.find_all('td')[index].text)\n",
    "    index += 9\n",
    "\n",
    "# New Deaths\n",
    "index = 4\n",
    "while index < (1737):\n",
    "    newDeaths.append(soup.find_all('td')[index].text)\n",
    "    index += 9\n",
    "\n",
    "# Total Recovered\n",
    "index = 5\n",
    "while index < (1737):\n",
    "    totalRecovered.append(soup.find_all('td')[index].text)\n",
    "    index += 9\n",
    "\n",
    "# Active Cases\n",
    "index = 6\n",
    "while index < (1737):\n",
    "    activeCases.append(soup.find_all('td')[index].text)\n",
    "    index += 9\n",
    "\n",
    "# Critical Cases\n",
    "index = 7\n",
    "while index < (1737):\n",
    "    criticalCases.append(soup.find_all('td')[index].text)\n",
    "    index += 9\n"
   ]
  },
  {
   "cell_type": "code",
   "execution_count": 32,
   "metadata": {},
   "outputs": [],
   "source": [
    "data = {\n",
    "    'Countries' : countries,\n",
    "    'Total Cases' : totalCases,\n",
    "    'New Cases' : newCases,\n",
    "    'Total Deaths' : totalDeaths,\n",
    "    'New Deaths' : newDeaths,\n",
    "    'Total Recovered' : totalRecovered,\n",
    "    'Active Cases' : activeCases,\n",
    "    'Critical Cases' : criticalCases\n",
    "}\n",
    "columns = ['Countries','Total Cases','New Cases','Total Deaths','New Deaths','Total Recovered','Active Cases','Critical Cases']\n",
    "df = pd.DataFrame(data, columns = columns )"
   ]
  },
  {
   "cell_type": "code",
   "execution_count": 38,
   "metadata": {},
   "outputs": [
    {
     "data": {
      "text/html": "<div>\n<style scoped>\n    .dataframe tbody tr th:only-of-type {\n        vertical-align: middle;\n    }\n\n    .dataframe tbody tr th {\n        vertical-align: top;\n    }\n\n    .dataframe thead th {\n        text-align: right;\n    }\n</style>\n<table border=\"1\" class=\"dataframe\">\n  <thead>\n    <tr style=\"text-align: right;\">\n      <th></th>\n      <th>Countries</th>\n      <th>Total Cases</th>\n      <th>New Cases</th>\n      <th>Total Deaths</th>\n      <th>New Deaths</th>\n      <th>Total Recovered</th>\n      <th>Active Cases</th>\n      <th>Critical Cases</th>\n    </tr>\n  </thead>\n  <tbody>\n    <tr>\n      <th>0</th>\n      <td>China</td>\n      <td>81,093</td>\n      <td>+39</td>\n      <td>3,270</td>\n      <td>+9</td>\n      <td>72,703</td>\n      <td>5,120</td>\n      <td>1,749</td>\n    </tr>\n    <tr>\n      <th>1</th>\n      <td>Italy</td>\n      <td>59,138</td>\n      <td></td>\n      <td>5,476</td>\n      <td></td>\n      <td>7,024</td>\n      <td>46,638</td>\n      <td>3,000</td>\n    </tr>\n    <tr>\n      <th>2</th>\n      <td>USA</td>\n      <td>39,207</td>\n      <td>+5,661</td>\n      <td>466</td>\n      <td>+47</td>\n      <td>184</td>\n      <td>38,557</td>\n      <td>1,040</td>\n    </tr>\n    <tr>\n      <th>3</th>\n      <td>Spain</td>\n      <td>33,089</td>\n      <td>+4,321</td>\n      <td>2,206</td>\n      <td>+434</td>\n      <td>3,355</td>\n      <td>27,528</td>\n      <td>2,355</td>\n    </tr>\n    <tr>\n      <th>4</th>\n      <td>Germany</td>\n      <td>27,289</td>\n      <td>+2,416</td>\n      <td>115</td>\n      <td>+21</td>\n      <td>422</td>\n      <td>26,752</td>\n      <td>23</td>\n    </tr>\n  </tbody>\n</table>\n</div>",
      "text/plain": "  Countries Total Cases New Cases                           Total Deaths  \\\n0     China      81,093       +39  3,270                                   \n1     Italy      59,138            5,476                                   \n2       USA      39,207    +5,661    466                                   \n3     Spain      33,089    +4,321  2,206                                   \n4   Germany      27,289    +2,416    115                                   \n\n  New Deaths Total Recovered Active Cases Critical Cases  \n0         +9          72,703        5,120          1,749  \n1                      7,024       46,638          3,000  \n2        +47             184       38,557          1,040  \n3       +434           3,355       27,528          2,355  \n4        +21             422       26,752             23  "
     },
     "execution_count": 38,
     "metadata": {},
     "output_type": "execute_result"
    }
   ],
   "source": [
    "df.head()"
   ]
  },
  {
   "cell_type": "code",
   "execution_count": null,
   "metadata": {},
   "outputs": [],
   "source": []
  }
 ],
 "metadata": {
  "kernelspec": {
   "display_name": "Python 3",
   "language": "python",
   "name": "python3"
  },
  "language_info": {
   "codemirror_mode": {
    "name": "ipython",
    "version": 3
   },
   "file_extension": ".py",
   "mimetype": "text/x-python",
   "name": "python",
   "nbconvert_exporter": "python",
   "pygments_lexer": "ipython3",
   "version": "3.7.5-final"
  }
 },
 "nbformat": 4,
 "nbformat_minor": 4
}