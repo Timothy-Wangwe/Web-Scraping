{
 "cells": [
  {
   "cell_type": "code",
   "execution_count": 11,
   "metadata": {},
   "outputs": [],
   "source": [
    "import requests\n",
    "from bs4 import BeautifulSoup"
   ]
  },
  {
   "cell_type": "code",
   "execution_count": 7,
   "metadata": {},
   "outputs": [],
   "source": [
    "header = ({\n",
    "    'User-Agent':\n",
    "    'Mozilla/5.0 (Windows NT 10.0; Win64; x64) AppleWebKit/537.36 (KHTML, like Gecko) Chrome/75.0.3770.100 Safari/537.36'\n",
    "})\n",
    "\n",
    "url = 'https://www.nytimes.com/news-event/coronavirus'"
   ]
  },
  {
   "cell_type": "code",
   "execution_count": 58,
   "metadata": {},
   "outputs": [
    {
     "data": {
      "text/plain": [
       "<Response [200]>"
      ]
     },
     "execution_count": 58,
     "metadata": {},
     "output_type": "execute_result"
    }
   ],
   "source": [
    "response = requests.get(url, headers = header)\n",
    "response"
   ]
  },
  {
   "cell_type": "code",
   "execution_count": 13,
   "metadata": {},
   "outputs": [],
   "source": [
    "soup = BeautifulSoup(response.text)"
   ]
  },
  {
   "cell_type": "code",
   "execution_count": 73,
   "metadata": {},
   "outputs": [],
   "source": [
    "x = 0\n",
    "while x < 0:\n",
    "    print(soup.find_all('country')[x].text)\n",
    "    x += 1"
   ]
  },
  {
   "cell_type": "code",
   "execution_count": 51,
   "metadata": {},
   "outputs": [
    {
     "data": {
      "text/plain": [
       "'81,171'"
      ]
     },
     "execution_count": 51,
     "metadata": {},
     "output_type": "execute_result"
    }
   ],
   "source": [
    "soup.find_all('td')[1].text"
   ]
  },
  {
   "cell_type": "code",
   "execution_count": 76,
   "metadata": {},
   "outputs": [
    {
     "data": {
      "text/plain": [
       "[<td class=\"country td_232 svelte-f9sygj\">\n",
       " <span>China</span>\n",
       " </td>,\n",
       " <td class=\"country td_102 svelte-f9sygj\">\n",
       " <span>Italy</span>\n",
       " </td>,\n",
       " <td class=\"country td_233 svelte-f9sygj\">\n",
       " <span>U.S.</span>\n",
       " </td>,\n",
       " <td class=\"country td_63 svelte-f9sygj\">\n",
       " <span>Spain</span>\n",
       " </td>,\n",
       " <td class=\"country td_52 svelte-f9sygj\">\n",
       " <span>Germany</span>\n",
       " </td>,\n",
       " <td class=\"country td_100 svelte-f9sygj\">\n",
       " <span>Iran</span>\n",
       " </td>,\n",
       " <td class=\"country td_70 svelte-f9sygj\">\n",
       " <span>France</span>\n",
       " </td>,\n",
       " <td class=\"country td_114 svelte-f9sygj\">\n",
       " <span>S. Korea</span>\n",
       " </td>,\n",
       " <td class=\"country td_40 svelte-f9sygj\">\n",
       " <span>Switzerland</span>\n",
       " </td>,\n",
       " <td class=\"country td_72 svelte-f9sygj\">\n",
       " <span>U.K.</span>\n",
       " </td>]"
      ]
     },
     "execution_count": 76,
     "metadata": {},
     "output_type": "execute_result"
    }
   ],
   "source": [
    "soup.find_all(class_='country')"
   ]
  }
 ],
 "metadata": {
  "kernelspec": {
   "display_name": "Python 3",
   "language": "python",
   "name": "python3"
  },
  "language_info": {
   "codemirror_mode": {
    "name": "ipython",
    "version": 3
   },
   "file_extension": ".py",
   "mimetype": "text/x-python",
   "name": "python",
   "nbconvert_exporter": "python",
   "pygments_lexer": "ipython3",
   "version": "3.7.5"
  }
 },
 "nbformat": 4,
 "nbformat_minor": 4
}
